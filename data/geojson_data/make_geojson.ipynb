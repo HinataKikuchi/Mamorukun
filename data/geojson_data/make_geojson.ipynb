{
 "cells": [
  {
   "cell_type": "markdown",
   "metadata": {},
   "source": [
    "# make_geojson.ipynb\n",
    "\n",
    "### 概要\n",
    "\n",
    "宇都宮市の[オープンソースライブラリ](https://data.city.utsunomiya.tochigi.jp/)から、[防災データ](https://catalog.city.utsunomiya.tochigi.jp/dataset/shiteikinkyuuhinanbashoichiran)を用いて公開するgeojsonファイルを作成します"
   ]
  },
  {
   "cell_type": "code",
   "execution_count": 7,
   "metadata": {},
   "outputs": [],
   "source": [
    "# 一時避難場所(令和3年8月現在)\n",
    "# 2022年6月14日現在このサイトは閉じられています。\n",
    "# tmp_evacuation_path='https://www.city.utsunomiya.tochigi.jp/_res/projects/default_project/_page_/001/009/937/ichizihinanbasyo0608.csv'\n",
    "tmp_evacuation_path='../csv_data/tmp_park.csv'\n",
    "# 広域避難場所（令和３年８月現在）\n",
    "# 2022年6月14日現在このサイトは閉じられています。\n",
    "# wide_area_evacuation_path='https://www.city.utsunomiya.tochigi.jp/_res/projects/default_project/_page_/001/009/938/kouikihinanbasyo.csv'\n",
    "wide_area_evacuation_path='../csv_data/wide_park.csv'"
   ]
  },
  {
   "cell_type": "code",
   "execution_count": 8,
   "metadata": {},
   "outputs": [],
   "source": [
    "import pandas as pd # データフレーム\n",
    "# import requests # csvへのリクエスト\n",
    "import io # ファイル名の管理\n",
    "import re # 緯度と経度の抽出"
   ]
  },
  {
   "cell_type": "markdown",
   "metadata": {},
   "source": [
    "#### csvデータの読み取り"
   ]
  },
  {
   "cell_type": "code",
   "execution_count": 9,
   "metadata": {},
   "outputs": [],
   "source": [
    "# 広域避難場所\n",
    "# r_wide = requests.get(wide_area_evacuation_path)\n",
    "# df_wide = pd.read_csv(io.BytesIO(r_wide.content),sep=\",\",encoding='utf-8_sig')\n",
    "df_wide=pd.read_csv(wide_area_evacuation_path, sep=',',index_col=0)"
   ]
  },
  {
   "cell_type": "code",
   "execution_count": 10,
   "metadata": {},
   "outputs": [],
   "source": [
    "# 一時避難場所\n",
    "# r_tmp = requests.get(tmp_evacuation_path)\n",
    "# df_tmp = pd.read_csv(io.BytesIO(r_tmp.content),sep=\",\",encoding='shift-jis')\n",
    "df_tmp=pd.read_csv(tmp_evacuation_path, sep=',',index_col=0)"
   ]
  },
  {
   "cell_type": "code",
   "execution_count": 11,
   "metadata": {},
   "outputs": [
    {
     "data": {
      "text/html": [
       "<div>\n",
       "<style scoped>\n",
       "    .dataframe tbody tr th:only-of-type {\n",
       "        vertical-align: middle;\n",
       "    }\n",
       "\n",
       "    .dataframe tbody tr th {\n",
       "        vertical-align: top;\n",
       "    }\n",
       "\n",
       "    .dataframe thead th {\n",
       "        text-align: right;\n",
       "    }\n",
       "</style>\n",
       "<table border=\"1\" class=\"dataframe\">\n",
       "  <thead>\n",
       "    <tr style=\"text-align: right;\">\n",
       "      <th></th>\n",
       "      <th>名称</th>\n",
       "      <th>住所</th>\n",
       "      <th>電話番号</th>\n",
       "      <th>座標</th>\n",
       "    </tr>\n",
       "  </thead>\n",
       "  <tbody>\n",
       "    <tr>\n",
       "      <th>9</th>\n",
       "      <td>錦中央公園（一時避難場所）</td>\n",
       "      <td>今泉町157</td>\n",
       "      <td>028-663-1611（スポーツ振興財団）</td>\n",
       "      <td>139.9024669:36.5657864</td>\n",
       "    </tr>\n",
       "    <tr>\n",
       "      <th>11</th>\n",
       "      <td>御幸公園（一時避難場所）</td>\n",
       "      <td>平出工業団地13-1</td>\n",
       "      <td>028-663-1611（スポーツ振興財団）</td>\n",
       "      <td>139.9337652:36.5803203</td>\n",
       "    </tr>\n",
       "    <tr>\n",
       "      <th>24</th>\n",
       "      <td>文化会館及び明保野公園（一時避難場所）</td>\n",
       "      <td>明保野町7-66 外</td>\n",
       "      <td>028-636-2121（文化会館）</td>\n",
       "      <td>139.8713327:36.5436572</td>\n",
       "    </tr>\n",
       "    <tr>\n",
       "      <th>29</th>\n",
       "      <td>陽南第1公園（一時避難場所）</td>\n",
       "      <td>大塚町1</td>\n",
       "      <td>028-663-1611（スポーツ振興財団）</td>\n",
       "      <td>139.8656817:36.5321054</td>\n",
       "    </tr>\n",
       "    <tr>\n",
       "      <th>44</th>\n",
       "      <td>宇都宮城址公園（一時避難場所）</td>\n",
       "      <td>本丸町、旭1丁目地内（市役所東側）</td>\n",
       "      <td>028-632-2529（市公園管理課）</td>\n",
       "      <td>139.8886906:36.5513311</td>\n",
       "    </tr>\n",
       "  </tbody>\n",
       "</table>\n",
       "</div>"
      ],
      "text/plain": [
       "                     名称                 住所                    電話番号  \\\n",
       "9         錦中央公園（一時避難場所）             今泉町157  028-663-1611（スポーツ振興財団）   \n",
       "11         御幸公園（一時避難場所）         平出工業団地13-1  028-663-1611（スポーツ振興財団）   \n",
       "24  文化会館及び明保野公園（一時避難場所）         明保野町7-66 外      028-636-2121（文化会館）   \n",
       "29       陽南第1公園（一時避難場所）               大塚町1  028-663-1611（スポーツ振興財団）   \n",
       "44      宇都宮城址公園（一時避難場所）  本丸町、旭1丁目地内（市役所東側）    028-632-2529（市公園管理課）   \n",
       "\n",
       "                        座標  \n",
       "9   139.9024669:36.5657864  \n",
       "11  139.9337652:36.5803203  \n",
       "24  139.8713327:36.5436572  \n",
       "29  139.8656817:36.5321054  \n",
       "44  139.8886906:36.5513311  "
      ]
     },
     "execution_count": 11,
     "metadata": {},
     "output_type": "execute_result"
    }
   ],
   "source": [
    "tmp_park_df = df_tmp[df_tmp['名称'].str.contains('公園')]\n",
    "tmp_park_df"
   ]
  },
  {
   "cell_type": "code",
   "execution_count": 12,
   "metadata": {},
   "outputs": [],
   "source": [
    "# tmp_park_df.to_csv('tmp_park.csv',encoding='shift-jis')"
   ]
  },
  {
   "cell_type": "code",
   "execution_count": 13,
   "metadata": {},
   "outputs": [
    {
     "data": {
      "text/html": [
       "<div>\n",
       "<style scoped>\n",
       "    .dataframe tbody tr th:only-of-type {\n",
       "        vertical-align: middle;\n",
       "    }\n",
       "\n",
       "    .dataframe tbody tr th {\n",
       "        vertical-align: top;\n",
       "    }\n",
       "\n",
       "    .dataframe thead th {\n",
       "        text-align: right;\n",
       "    }\n",
       "</style>\n",
       "<table border=\"1\" class=\"dataframe\">\n",
       "  <thead>\n",
       "    <tr style=\"text-align: right;\">\n",
       "      <th></th>\n",
       "      <th>名称</th>\n",
       "      <th>住所</th>\n",
       "      <th>電話番号</th>\n",
       "      <th>座標</th>\n",
       "    </tr>\n",
       "  </thead>\n",
       "  <tbody>\n",
       "    <tr>\n",
       "      <th>1</th>\n",
       "      <td>ブレックスアリーナ宇都宮〔市体育館〕・駅東公園（広域避難場所）</td>\n",
       "      <td>元今泉5丁目6-18　他</td>\n",
       "      <td>028-663-1611（スポーツ振興財団）</td>\n",
       "      <td>139.9127068:36.5581267</td>\n",
       "    </tr>\n",
       "    <tr>\n",
       "      <th>3</th>\n",
       "      <td>八幡山公園（広域避難場所）</td>\n",
       "      <td>塙田５丁目2-70</td>\n",
       "      <td>028-632-2529（市公園管理課）</td>\n",
       "      <td>139.8899724:36.5676559</td>\n",
       "    </tr>\n",
       "    <tr>\n",
       "      <th>4</th>\n",
       "      <td>平出工業団地公園（広域避難場所）</td>\n",
       "      <td>平出工業団地30-1</td>\n",
       "      <td>028-662-5813（緑の相談所）</td>\n",
       "      <td>139.9389889:36.5677532</td>\n",
       "    </tr>\n",
       "    <tr>\n",
       "      <th>6</th>\n",
       "      <td>宮原運動公園（広域避難場所）</td>\n",
       "      <td>陽南４丁目5-6</td>\n",
       "      <td>028-658-1052</td>\n",
       "      <td>139.8717313:36.5350165</td>\n",
       "    </tr>\n",
       "    <tr>\n",
       "      <th>7</th>\n",
       "      <td>栃木県中央公園（広域避難場所）</td>\n",
       "      <td>睦町2-50</td>\n",
       "      <td>028-636-1491（公園管理事務所）</td>\n",
       "      <td>139.8663676:36.5553989</td>\n",
       "    </tr>\n",
       "  </tbody>\n",
       "</table>\n",
       "</div>"
      ],
      "text/plain": [
       "                                名称            住所                    電話番号  \\\n",
       "1  ブレックスアリーナ宇都宮〔市体育館〕・駅東公園（広域避難場所）  元今泉5丁目6-18　他  028-663-1611（スポーツ振興財団）   \n",
       "3                    八幡山公園（広域避難場所）     塙田５丁目2-70    028-632-2529（市公園管理課）   \n",
       "4                 平出工業団地公園（広域避難場所）    平出工業団地30-1     028-662-5813（緑の相談所）   \n",
       "6                   宮原運動公園（広域避難場所）      陽南４丁目5-6            028-658-1052   \n",
       "7                  栃木県中央公園（広域避難場所）        睦町2-50   028-636-1491（公園管理事務所）   \n",
       "\n",
       "                       座標  \n",
       "1  139.9127068:36.5581267  \n",
       "3  139.8899724:36.5676559  \n",
       "4  139.9389889:36.5677532  \n",
       "6  139.8717313:36.5350165  \n",
       "7  139.8663676:36.5553989  "
      ]
     },
     "execution_count": 13,
     "metadata": {},
     "output_type": "execute_result"
    }
   ],
   "source": [
    "wide_park_df = df_wide[df_wide['名称'].str.contains('公園')]\n",
    "wide_park_df"
   ]
  },
  {
   "cell_type": "code",
   "execution_count": 14,
   "metadata": {},
   "outputs": [],
   "source": [
    "# wide_park_df.to_csv('wide_park.csv',encoding='shift-jis')"
   ]
  },
  {
   "cell_type": "markdown",
   "metadata": {},
   "source": [
    "#### geojsonの作成"
   ]
  },
  {
   "cell_type": "code",
   "execution_count": 15,
   "metadata": {},
   "outputs": [],
   "source": [
    "# https://python-geojson.readthedocs.io/en/latest/#featurecollection\n",
    "from geojson import Point, Feature, FeatureCollection, dumps\n",
    "import folium\n",
    "from folium.plugins import MarkerCluster # 地図を出力するためのモジュール\n",
    "import geopandas\n",
    "cordinate_column_name='座標'"
   ]
  },
  {
   "cell_type": "code",
   "execution_count": 16,
   "metadata": {},
   "outputs": [],
   "source": [
    "# pandas->geopandas\n",
    "# 広域避難場所\n",
    "cordinate_column_name='座標'\n",
    "df_wide['longtitude']=0\n",
    "df_wide['latitude']=0\n",
    "for idx, val in df_wide.iterrows():\n",
    "    # 緯度\n",
    "    latitude_num=re.sub(r':\\d*.\\d*','',val[cordinate_column_name])\n",
    "    # 経度\n",
    "    longtitude_num=re.sub(r'\\d*.\\d*:','',val[cordinate_column_name])\n",
    "    df_wide.at[idx, 'latitude'] = latitude_num\n",
    "    df_wide.at[idx, 'longtitude'] = longtitude_num\n",
    "\n",
    "df_wide=df_wide.rename(columns={'名称':'title','住所':'city','電話番号':'Tel','座標':'coordinates'})"
   ]
  },
  {
   "cell_type": "code",
   "execution_count": 17,
   "metadata": {},
   "outputs": [],
   "source": [
    "# pandas->geopandas\n",
    "# 一時避難場所\n",
    "cordinate_column_name='座標'\n",
    "df_tmp['longtitude']=0\n",
    "df_tmp['latitude']=0\n",
    "for idx, val in df_tmp.iterrows():\n",
    "    # 緯度\n",
    "    latitude_num=re.sub(r':\\d*.\\d*','',val[cordinate_column_name])\n",
    "    # 経度\n",
    "    longtitude_num=re.sub(r'\\d*.\\d*:','',val[cordinate_column_name])\n",
    "    df_tmp.at[idx, 'latitude'] = latitude_num\n",
    "    df_tmp.at[idx, 'longtitude'] = longtitude_num\n",
    "\n",
    "df_tmp=df_tmp.rename(columns={'名称':'title','住所':'city','電話番号':'Tel','座標':'coordinates'})"
   ]
  },
  {
   "cell_type": "code",
   "execution_count": 18,
   "metadata": {},
   "outputs": [],
   "source": [
    "# geopandas->geojson\n",
    "import geopandas\n",
    "# 広域避難場所\n",
    "wide_gpd=geopandas.GeoDataFrame(df_wide,geometry = geopandas.points_from_xy( df_wide['latitude'], df_wide['longtitude']))\n",
    "wide_gpd.to_file('./wide_park.geojson',driver='GeoJSON')\n",
    "# 一次避難場所\n",
    "tmp_gpd=geopandas.GeoDataFrame(df_tmp,geometry = geopandas.points_from_xy(df_tmp['latitude'], df_tmp['longtitude']))\n",
    "tmp_gpd.to_file('./tmp_park.geojson',driver='GeoJSON')"
   ]
  },
  {
   "cell_type": "markdown",
   "metadata": {},
   "source": [
    "## ちょっと可視化"
   ]
  },
  {
   "cell_type": "code",
   "execution_count": 19,
   "metadata": {},
   "outputs": [],
   "source": [
    "def visualize_locations(\n",
    "                        # df, # データフレーム\n",
    "                        # longitude_column_name, # データフレームの中で緯度を保存したカラム名\n",
    "                        # latitude_column_name, # データフレームの中で経度を保存したカラム名\n",
    "                        zoom=15, # ズームの大きさ、デフォルトで4\n",
    "                        # idx_range = 15000 # 出力する行数の上限\n",
    "                        ) -> folium.folium.Map: # Foliumのマップ型を返す\n",
    "    \"\"\"\n",
    "    EXPLAIN : 日本を拡大した地図に、pandasデータフレームのlatitudeおよびlongitudeカラムをプロットする。\n",
    "    ARGS :\n",
    "    % df, # データフレーム\n",
    "    % longitude_column_name, # データフレームの中で緯度を保存したカラム名\n",
    "    % latitude_column_name, # データフレームの中で経度を保存したカラム名\n",
    "    % zoom=4, # ズームの大きさ、デフォルトで4\n",
    "    idx_range = 15000 # 出力する行数の上限\n",
    "    \"\"\"\n",
    "\n",
    "    # 図の大きさを指定する。\n",
    "    f = folium.Figure(width=1000, height=500)\n",
    "\n",
    "    # 初期表示の中心の座標を指定して地図を作成する。\n",
    "    #北緯36度33分55.6秒 東経139度53分0.7秒\n",
    "    center_lat=36.5590232\n",
    "    center_lon=139.8966108\n",
    "\n",
    "    # foliumのMap形のコンストラクタに初期の座標とズーム情報を渡す, fは図の大きさとして指定\n",
    "    m = folium.Map([center_lat,center_lon], zoom_start=zoom).add_to(f)\n",
    "    marker_cluster = MarkerCluster().add_to(m)\n",
    "\n",
    "    # データフレームの全ての行のマーカーを作成する。\n",
    "    # 広域避難場所\n",
    "    for idx, val in df_wide[cordinate_column_name]:\n",
    "        # 緯度\n",
    "        latitude_num=re.sub(r':\\d*.\\d*','',val)\n",
    "        # 経度\n",
    "        longtitude_num=re.sub(r'\\d*.\\d*:','',val)\n",
    "        folium.Marker(location=[longtitude_num,latitude_num]).add_to(marker_cluster)\n",
    "    # 一次避難場所\n",
    "    for val in df_tmp[cordinate_column_name]:\n",
    "        # 緯度\n",
    "        latitude_num=re.sub(r':\\d*.\\d*','',val)\n",
    "        # 経度\n",
    "        longtitude_num=re.sub(r'\\d*.\\d*:','',val)\n",
    "        folium.Marker(location=[longtitude_num,latitude_num]).add_to(marker_cluster)\n",
    "    return m"
   ]
  },
  {
   "cell_type": "code",
   "execution_count": 20,
   "metadata": {},
   "outputs": [
    {
     "ename": "KeyError",
     "evalue": "'座標'",
     "output_type": "error",
     "traceback": [
      "\u001b[0;31m---------------------------------------------------------------------------\u001b[0m",
      "\u001b[0;31mKeyError\u001b[0m                                  Traceback (most recent call last)",
      "File \u001b[0;32m~/anaconda3/envs/mamorukun/lib/python3.9/site-packages/pandas/core/indexes/base.py:3621\u001b[0m, in \u001b[0;36mIndex.get_loc\u001b[0;34m(self, key, method, tolerance)\u001b[0m\n\u001b[1;32m   3620\u001b[0m \u001b[39mtry\u001b[39;00m:\n\u001b[0;32m-> 3621\u001b[0m     \u001b[39mreturn\u001b[39;00m \u001b[39mself\u001b[39;49m\u001b[39m.\u001b[39;49m_engine\u001b[39m.\u001b[39;49mget_loc(casted_key)\n\u001b[1;32m   3622\u001b[0m \u001b[39mexcept\u001b[39;00m \u001b[39mKeyError\u001b[39;00m \u001b[39mas\u001b[39;00m err:\n",
      "File \u001b[0;32m~/anaconda3/envs/mamorukun/lib/python3.9/site-packages/pandas/_libs/index.pyx:136\u001b[0m, in \u001b[0;36mpandas._libs.index.IndexEngine.get_loc\u001b[0;34m()\u001b[0m\n",
      "File \u001b[0;32m~/anaconda3/envs/mamorukun/lib/python3.9/site-packages/pandas/_libs/index.pyx:163\u001b[0m, in \u001b[0;36mpandas._libs.index.IndexEngine.get_loc\u001b[0;34m()\u001b[0m\n",
      "File \u001b[0;32mpandas/_libs/hashtable_class_helper.pxi:5198\u001b[0m, in \u001b[0;36mpandas._libs.hashtable.PyObjectHashTable.get_item\u001b[0;34m()\u001b[0m\n",
      "File \u001b[0;32mpandas/_libs/hashtable_class_helper.pxi:5206\u001b[0m, in \u001b[0;36mpandas._libs.hashtable.PyObjectHashTable.get_item\u001b[0;34m()\u001b[0m\n",
      "\u001b[0;31mKeyError\u001b[0m: '座標'",
      "\nThe above exception was the direct cause of the following exception:\n",
      "\u001b[0;31mKeyError\u001b[0m                                  Traceback (most recent call last)",
      "\u001b[1;32m/home/hkikuchi/colledge/m1/Mamorukun/data/geojson_data/make_geojson.ipynb Cell 18'\u001b[0m in \u001b[0;36m<cell line: 1>\u001b[0;34m()\u001b[0m\n\u001b[0;32m----> <a href='vscode-notebook-cell://wsl%2Bubuntu/home/hkikuchi/colledge/m1/Mamorukun/data/geojson_data/make_geojson.ipynb#ch0000017vscode-remote?line=0'>1</a>\u001b[0m m\u001b[39m=\u001b[39mvisualize_locations()\n",
      "\u001b[1;32m/home/hkikuchi/colledge/m1/Mamorukun/data/geojson_data/make_geojson.ipynb Cell 17'\u001b[0m in \u001b[0;36mvisualize_locations\u001b[0;34m(zoom)\u001b[0m\n\u001b[1;32m     <a href='vscode-notebook-cell://wsl%2Bubuntu/home/hkikuchi/colledge/m1/Mamorukun/data/geojson_data/make_geojson.ipynb#ch0000016vscode-remote?line=27'>28</a>\u001b[0m marker_cluster \u001b[39m=\u001b[39m MarkerCluster()\u001b[39m.\u001b[39madd_to(m)\n\u001b[1;32m     <a href='vscode-notebook-cell://wsl%2Bubuntu/home/hkikuchi/colledge/m1/Mamorukun/data/geojson_data/make_geojson.ipynb#ch0000016vscode-remote?line=29'>30</a>\u001b[0m \u001b[39m# データフレームの全ての行のマーカーを作成する。\u001b[39;00m\n\u001b[1;32m     <a href='vscode-notebook-cell://wsl%2Bubuntu/home/hkikuchi/colledge/m1/Mamorukun/data/geojson_data/make_geojson.ipynb#ch0000016vscode-remote?line=30'>31</a>\u001b[0m \u001b[39m# 広域避難場所\u001b[39;00m\n\u001b[0;32m---> <a href='vscode-notebook-cell://wsl%2Bubuntu/home/hkikuchi/colledge/m1/Mamorukun/data/geojson_data/make_geojson.ipynb#ch0000016vscode-remote?line=31'>32</a>\u001b[0m \u001b[39mfor\u001b[39;00m idx, val \u001b[39min\u001b[39;00m df_wide[cordinate_column_name]:\n\u001b[1;32m     <a href='vscode-notebook-cell://wsl%2Bubuntu/home/hkikuchi/colledge/m1/Mamorukun/data/geojson_data/make_geojson.ipynb#ch0000016vscode-remote?line=32'>33</a>\u001b[0m     \u001b[39m# 緯度\u001b[39;00m\n\u001b[1;32m     <a href='vscode-notebook-cell://wsl%2Bubuntu/home/hkikuchi/colledge/m1/Mamorukun/data/geojson_data/make_geojson.ipynb#ch0000016vscode-remote?line=33'>34</a>\u001b[0m     latitude_num\u001b[39m=\u001b[39mre\u001b[39m.\u001b[39msub(\u001b[39mr\u001b[39m\u001b[39m'\u001b[39m\u001b[39m:\u001b[39m\u001b[39m\\\u001b[39m\u001b[39md*.\u001b[39m\u001b[39m\\\u001b[39m\u001b[39md*\u001b[39m\u001b[39m'\u001b[39m,\u001b[39m'\u001b[39m\u001b[39m'\u001b[39m,val)\n\u001b[1;32m     <a href='vscode-notebook-cell://wsl%2Bubuntu/home/hkikuchi/colledge/m1/Mamorukun/data/geojson_data/make_geojson.ipynb#ch0000016vscode-remote?line=34'>35</a>\u001b[0m     \u001b[39m# 経度\u001b[39;00m\n",
      "File \u001b[0;32m~/anaconda3/envs/mamorukun/lib/python3.9/site-packages/pandas/core/frame.py:3505\u001b[0m, in \u001b[0;36mDataFrame.__getitem__\u001b[0;34m(self, key)\u001b[0m\n\u001b[1;32m   3503\u001b[0m \u001b[39mif\u001b[39;00m \u001b[39mself\u001b[39m\u001b[39m.\u001b[39mcolumns\u001b[39m.\u001b[39mnlevels \u001b[39m>\u001b[39m \u001b[39m1\u001b[39m:\n\u001b[1;32m   3504\u001b[0m     \u001b[39mreturn\u001b[39;00m \u001b[39mself\u001b[39m\u001b[39m.\u001b[39m_getitem_multilevel(key)\n\u001b[0;32m-> 3505\u001b[0m indexer \u001b[39m=\u001b[39m \u001b[39mself\u001b[39;49m\u001b[39m.\u001b[39;49mcolumns\u001b[39m.\u001b[39;49mget_loc(key)\n\u001b[1;32m   3506\u001b[0m \u001b[39mif\u001b[39;00m is_integer(indexer):\n\u001b[1;32m   3507\u001b[0m     indexer \u001b[39m=\u001b[39m [indexer]\n",
      "File \u001b[0;32m~/anaconda3/envs/mamorukun/lib/python3.9/site-packages/pandas/core/indexes/base.py:3623\u001b[0m, in \u001b[0;36mIndex.get_loc\u001b[0;34m(self, key, method, tolerance)\u001b[0m\n\u001b[1;32m   3621\u001b[0m     \u001b[39mreturn\u001b[39;00m \u001b[39mself\u001b[39m\u001b[39m.\u001b[39m_engine\u001b[39m.\u001b[39mget_loc(casted_key)\n\u001b[1;32m   3622\u001b[0m \u001b[39mexcept\u001b[39;00m \u001b[39mKeyError\u001b[39;00m \u001b[39mas\u001b[39;00m err:\n\u001b[0;32m-> 3623\u001b[0m     \u001b[39mraise\u001b[39;00m \u001b[39mKeyError\u001b[39;00m(key) \u001b[39mfrom\u001b[39;00m \u001b[39merr\u001b[39;00m\n\u001b[1;32m   3624\u001b[0m \u001b[39mexcept\u001b[39;00m \u001b[39mTypeError\u001b[39;00m:\n\u001b[1;32m   3625\u001b[0m     \u001b[39m# If we have a listlike key, _check_indexing_error will raise\u001b[39;00m\n\u001b[1;32m   3626\u001b[0m     \u001b[39m#  InvalidIndexError. Otherwise we fall through and re-raise\u001b[39;00m\n\u001b[1;32m   3627\u001b[0m     \u001b[39m#  the TypeError.\u001b[39;00m\n\u001b[1;32m   3628\u001b[0m     \u001b[39mself\u001b[39m\u001b[39m.\u001b[39m_check_indexing_error(key)\n",
      "\u001b[0;31mKeyError\u001b[0m: '座標'"
     ]
    }
   ],
   "source": [
    "m=visualize_locations()"
   ]
  },
  {
   "cell_type": "code",
   "execution_count": 21,
   "metadata": {},
   "outputs": [
    {
     "ename": "NameError",
     "evalue": "name 'm' is not defined",
     "output_type": "error",
     "traceback": [
      "\u001b[0;31m---------------------------------------------------------------------------\u001b[0m",
      "\u001b[0;31mNameError\u001b[0m                                 Traceback (most recent call last)",
      "\u001b[1;32m/home/hkikuchi/colledge/m1/Mamorukun/data/geojson_data/make_geojson.ipynb Cell 18'\u001b[0m in \u001b[0;36m<cell line: 1>\u001b[0;34m()\u001b[0m\n\u001b[0;32m----> <a href='vscode-notebook-cell://wsl%2Bubuntu/home/hkikuchi/colledge/m1/Mamorukun/data/geojson_data/make_geojson.ipynb#ch0000018vscode-remote?line=0'>1</a>\u001b[0m m\u001b[39m.\u001b[39msave(\u001b[39m'\u001b[39m\u001b[39mhello.html\u001b[39m\u001b[39m'\u001b[39m)\n",
      "\u001b[0;31mNameError\u001b[0m: name 'm' is not defined"
     ]
    }
   ],
   "source": [
    "m.save('hello.html')"
   ]
  }
 ],
 "metadata": {
  "kernelspec": {
   "display_name": "Python 3.9.12 ('mamorukun')",
   "language": "python",
   "name": "python3"
  },
  "language_info": {
   "codemirror_mode": {
    "name": "ipython",
    "version": 3
   },
   "file_extension": ".py",
   "mimetype": "text/x-python",
   "name": "python",
   "nbconvert_exporter": "python",
   "pygments_lexer": "ipython3",
   "version": "3.9.12"
  },
  "orig_nbformat": 4,
  "vscode": {
   "interpreter": {
    "hash": "aa61de428edab9292fe7f458d7e664ea88f2f132acb37a031112cd0beeb35311"
   }
  }
 },
 "nbformat": 4,
 "nbformat_minor": 2
}

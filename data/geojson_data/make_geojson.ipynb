{
 "cells": [
  {
   "cell_type": "markdown",
   "metadata": {},
   "source": [
    "# make_geojson.ipynb\n",
    "\n",
    "### 概要\n",
    "\n",
    "宇都宮市の[オープンソースライブラリ](https://data.city.utsunomiya.tochigi.jp/)から、[防災データ](https://catalog.city.utsunomiya.tochigi.jp/dataset/shiteikinkyuuhinanbashoichiran)を用いて公開するgeojsonファイルを作成します"
   ]
  },
  {
   "cell_type": "code",
   "execution_count": 110,
   "metadata": {},
   "outputs": [],
   "source": [
    "# 一時避難場所(令和3年8月現在)\n",
    "# 2022年6月14日現在このサイトは閉じられています。\n",
    "# tmp_evacuation_path='https://www.city.utsunomiya.tochigi.jp/_res/projects/default_project/_page_/001/009/937/ichizihinanbasyo0608.csv'\n",
    "tmp_evacuation_path='../csv_data/tmp_park.csv'\n",
    "# 広域避難場所（令和３年８月現在）\n",
    "# 2022年6月14日現在このサイトは閉じられています。\n",
    "# wide_area_evacuation_path='https://www.city.utsunomiya.tochigi.jp/_res/projects/default_project/_page_/001/009/938/kouikihinanbasyo.csv'\n",
    "wide_area_evacuation_path='../csv_data/wide_park.csv'"
   ]
  },
  {
   "cell_type": "code",
   "execution_count": 111,
   "metadata": {},
   "outputs": [],
   "source": [
    "import pandas as pd # データフレーム\n",
    "# import requests # csvへのリクエスト\n",
    "import io # ファイル名の管理\n",
    "import re # 緯度と経度の抽出"
   ]
  },
  {
   "cell_type": "markdown",
   "metadata": {},
   "source": [
    "#### csvデータの読み取り"
   ]
  },
  {
   "cell_type": "code",
   "execution_count": 112,
   "metadata": {},
   "outputs": [],
   "source": [
    "# 広域避難場所\n",
    "# r_wide = requests.get(wide_area_evacuation_path)\n",
    "# df_wide = pd.read_csv(io.BytesIO(r_wide.content),sep=\",\",encoding='utf-8_sig')\n",
    "df_wide=pd.read_csv(wide_area_evacuation_path, sep=',',index_col=0)"
   ]
  },
  {
   "cell_type": "code",
   "execution_count": 113,
   "metadata": {},
   "outputs": [],
   "source": [
    "# 一時避難場所\n",
    "# r_tmp = requests.get(tmp_evacuation_path)\n",
    "# df_tmp = pd.read_csv(io.BytesIO(r_tmp.content),sep=\",\",encoding='shift-jis')\n",
    "df_tmp=pd.read_csv(tmp_evacuation_path, sep=',',index_col=0)"
   ]
  },
  {
   "cell_type": "code",
   "execution_count": 114,
   "metadata": {},
   "outputs": [
    {
     "data": {
      "text/html": [
       "<div>\n",
       "<style scoped>\n",
       "    .dataframe tbody tr th:only-of-type {\n",
       "        vertical-align: middle;\n",
       "    }\n",
       "\n",
       "    .dataframe tbody tr th {\n",
       "        vertical-align: top;\n",
       "    }\n",
       "\n",
       "    .dataframe thead th {\n",
       "        text-align: right;\n",
       "    }\n",
       "</style>\n",
       "<table border=\"1\" class=\"dataframe\">\n",
       "  <thead>\n",
       "    <tr style=\"text-align: right;\">\n",
       "      <th></th>\n",
       "      <th>名称</th>\n",
       "      <th>住所</th>\n",
       "      <th>電話番号</th>\n",
       "      <th>座標</th>\n",
       "    </tr>\n",
       "  </thead>\n",
       "  <tbody>\n",
       "    <tr>\n",
       "      <th>9</th>\n",
       "      <td>錦中央公園（一時避難場所）</td>\n",
       "      <td>今泉町157</td>\n",
       "      <td>028-663-1611（スポーツ振興財団）</td>\n",
       "      <td>139.9024669:36.5657864</td>\n",
       "    </tr>\n",
       "    <tr>\n",
       "      <th>11</th>\n",
       "      <td>御幸公園（一時避難場所）</td>\n",
       "      <td>平出工業団地13-1</td>\n",
       "      <td>028-663-1611（スポーツ振興財団）</td>\n",
       "      <td>139.9337652:36.5803203</td>\n",
       "    </tr>\n",
       "    <tr>\n",
       "      <th>24</th>\n",
       "      <td>文化会館及び明保野公園（一時避難場所）</td>\n",
       "      <td>明保野町7-66 外</td>\n",
       "      <td>028-636-2121（文化会館）</td>\n",
       "      <td>139.8713327:36.5436572</td>\n",
       "    </tr>\n",
       "    <tr>\n",
       "      <th>29</th>\n",
       "      <td>陽南第1公園（一時避難場所）</td>\n",
       "      <td>大塚町1</td>\n",
       "      <td>028-663-1611（スポーツ振興財団）</td>\n",
       "      <td>139.8656817:36.5321054</td>\n",
       "    </tr>\n",
       "    <tr>\n",
       "      <th>44</th>\n",
       "      <td>宇都宮城址公園（一時避難場所）</td>\n",
       "      <td>本丸町、旭1丁目地内（市役所東側）</td>\n",
       "      <td>028-632-2529（市公園管理課）</td>\n",
       "      <td>139.8886906:36.5513311</td>\n",
       "    </tr>\n",
       "  </tbody>\n",
       "</table>\n",
       "</div>"
      ],
      "text/plain": [
       "                     名称                 住所                    電話番号  \\\n",
       "9         錦中央公園（一時避難場所）             今泉町157  028-663-1611（スポーツ振興財団）   \n",
       "11         御幸公園（一時避難場所）         平出工業団地13-1  028-663-1611（スポーツ振興財団）   \n",
       "24  文化会館及び明保野公園（一時避難場所）         明保野町7-66 外      028-636-2121（文化会館）   \n",
       "29       陽南第1公園（一時避難場所）               大塚町1  028-663-1611（スポーツ振興財団）   \n",
       "44      宇都宮城址公園（一時避難場所）  本丸町、旭1丁目地内（市役所東側）    028-632-2529（市公園管理課）   \n",
       "\n",
       "                        座標  \n",
       "9   139.9024669:36.5657864  \n",
       "11  139.9337652:36.5803203  \n",
       "24  139.8713327:36.5436572  \n",
       "29  139.8656817:36.5321054  \n",
       "44  139.8886906:36.5513311  "
      ]
     },
     "execution_count": 114,
     "metadata": {},
     "output_type": "execute_result"
    }
   ],
   "source": [
    "tmp_park_df = df_tmp[df_tmp['名称'].str.contains('公園')]\n",
    "tmp_park_df"
   ]
  },
  {
   "cell_type": "code",
   "execution_count": 115,
   "metadata": {},
   "outputs": [],
   "source": [
    "# tmp_park_df.to_csv('tmp_park.csv',encoding='shift-jis')"
   ]
  },
  {
   "cell_type": "code",
   "execution_count": 116,
   "metadata": {},
   "outputs": [
    {
     "data": {
      "text/html": [
       "<div>\n",
       "<style scoped>\n",
       "    .dataframe tbody tr th:only-of-type {\n",
       "        vertical-align: middle;\n",
       "    }\n",
       "\n",
       "    .dataframe tbody tr th {\n",
       "        vertical-align: top;\n",
       "    }\n",
       "\n",
       "    .dataframe thead th {\n",
       "        text-align: right;\n",
       "    }\n",
       "</style>\n",
       "<table border=\"1\" class=\"dataframe\">\n",
       "  <thead>\n",
       "    <tr style=\"text-align: right;\">\n",
       "      <th></th>\n",
       "      <th>名称</th>\n",
       "      <th>住所</th>\n",
       "      <th>電話番号</th>\n",
       "      <th>座標</th>\n",
       "    </tr>\n",
       "  </thead>\n",
       "  <tbody>\n",
       "    <tr>\n",
       "      <th>1</th>\n",
       "      <td>ブレックスアリーナ宇都宮〔市体育館〕・駅東公園（広域避難場所）</td>\n",
       "      <td>元今泉5丁目6-18　他</td>\n",
       "      <td>028-663-1611（スポーツ振興財団）</td>\n",
       "      <td>139.9127068:36.5581267</td>\n",
       "    </tr>\n",
       "    <tr>\n",
       "      <th>3</th>\n",
       "      <td>八幡山公園（広域避難場所）</td>\n",
       "      <td>塙田５丁目2-70</td>\n",
       "      <td>028-632-2529（市公園管理課）</td>\n",
       "      <td>139.8899724:36.5676559</td>\n",
       "    </tr>\n",
       "    <tr>\n",
       "      <th>4</th>\n",
       "      <td>平出工業団地公園（広域避難場所）</td>\n",
       "      <td>平出工業団地30-1</td>\n",
       "      <td>028-662-5813（緑の相談所）</td>\n",
       "      <td>139.9389889:36.5677532</td>\n",
       "    </tr>\n",
       "    <tr>\n",
       "      <th>6</th>\n",
       "      <td>宮原運動公園（広域避難場所）</td>\n",
       "      <td>陽南４丁目5-6</td>\n",
       "      <td>028-658-1052</td>\n",
       "      <td>139.8717313:36.5350165</td>\n",
       "    </tr>\n",
       "    <tr>\n",
       "      <th>7</th>\n",
       "      <td>栃木県中央公園（広域避難場所）</td>\n",
       "      <td>睦町2-50</td>\n",
       "      <td>028-636-1491（公園管理事務所）</td>\n",
       "      <td>139.8663676:36.5553989</td>\n",
       "    </tr>\n",
       "  </tbody>\n",
       "</table>\n",
       "</div>"
      ],
      "text/plain": [
       "                                名称            住所                    電話番号  \\\n",
       "1  ブレックスアリーナ宇都宮〔市体育館〕・駅東公園（広域避難場所）  元今泉5丁目6-18　他  028-663-1611（スポーツ振興財団）   \n",
       "3                    八幡山公園（広域避難場所）     塙田５丁目2-70    028-632-2529（市公園管理課）   \n",
       "4                 平出工業団地公園（広域避難場所）    平出工業団地30-1     028-662-5813（緑の相談所）   \n",
       "6                   宮原運動公園（広域避難場所）      陽南４丁目5-6            028-658-1052   \n",
       "7                  栃木県中央公園（広域避難場所）        睦町2-50   028-636-1491（公園管理事務所）   \n",
       "\n",
       "                       座標  \n",
       "1  139.9127068:36.5581267  \n",
       "3  139.8899724:36.5676559  \n",
       "4  139.9389889:36.5677532  \n",
       "6  139.8717313:36.5350165  \n",
       "7  139.8663676:36.5553989  "
      ]
     },
     "execution_count": 116,
     "metadata": {},
     "output_type": "execute_result"
    }
   ],
   "source": [
    "wide_park_df = df_wide[df_wide['名称'].str.contains('公園')]\n",
    "wide_park_df"
   ]
  },
  {
   "cell_type": "code",
   "execution_count": 117,
   "metadata": {},
   "outputs": [],
   "source": [
    "# wide_park_df.to_csv('wide_park.csv',encoding='shift-jis')"
   ]
  },
  {
   "cell_type": "markdown",
   "metadata": {},
   "source": [
    "#### geojsonの作成"
   ]
  },
  {
   "cell_type": "markdown",
   "metadata": {},
   "source": [
    "- longtitude: 経度: 135とかの\n",
    "- latitude: 緯度: 30とかのやつ"
   ]
  },
  {
   "cell_type": "code",
   "execution_count": 118,
   "metadata": {},
   "outputs": [],
   "source": [
    "# https://python-geojson.readthedocs.io/en/latest/#featurecollection\n",
    "from geojson import Point, Feature, FeatureCollection, dumps\n",
    "import folium\n",
    "from folium.plugins import MarkerCluster # 地図を出力するためのモジュール\n",
    "import geopandas\n",
    "cordinate_column_name='座標'"
   ]
  },
  {
   "cell_type": "code",
   "execution_count": 119,
   "metadata": {},
   "outputs": [],
   "source": [
    "# pandas->geopandas\n",
    "# 広域避難場所\n",
    "cordinate_column_name='座標'\n",
    "df_wide['longtitude']=0\n",
    "df_wide['latitude']=0\n",
    "for idx, val in df_wide.iterrows():\n",
    "    # 緯度0< <90\n",
    "    latitude_num=re.sub(r'\\d*.\\d*:','',val[cordinate_column_name])\n",
    "    # 経度0< < 180\n",
    "    longtitude_num=re.sub(r':\\d*.\\d*','',val[cordinate_column_name])\n",
    "    df_wide.at[idx, 'latitude'] = latitude_num\n",
    "    df_wide.at[idx, 'longtitude'] = longtitude_num\n",
    "\n",
    "df_wide=df_wide.rename(columns={'名称':'title','住所':'city','電話番号':'Tel','座標':'coordinates'})"
   ]
  },
  {
   "cell_type": "code",
   "execution_count": 120,
   "metadata": {},
   "outputs": [],
   "source": [
    "# pandas->geopandas\n",
    "# 一時避難場所\n",
    "cordinate_column_name='座標'\n",
    "df_tmp['longtitude']=0\n",
    "df_tmp['latitude']=0\n",
    "for idx, val in df_tmp.iterrows():\n",
    "    # 緯度0< <90\n",
    "    latitude_num=re.sub(r'\\d*.\\d*:','',val[cordinate_column_name])\n",
    "    # 経度0< < 180\n",
    "    longtitude_num=re.sub(r':\\d*.\\d*','',val[cordinate_column_name])\n",
    "    df_tmp.at[idx, 'latitude'] = latitude_num\n",
    "    df_tmp.at[idx, 'longtitude'] = longtitude_num\n",
    "\n",
    "df_tmp=df_tmp.rename(columns={'名称':'title','住所':'city','電話番号':'Tel','座標':'coordinates'})"
   ]
  },
  {
   "cell_type": "code",
   "execution_count": 121,
   "metadata": {},
   "outputs": [],
   "source": [
    "# geopandas->geojson\n",
    "import geopandas\n",
    "# 広域避難場所\n",
    "wide_gpd=geopandas.GeoDataFrame(df_wide,geometry = geopandas.points_from_xy(  df_wide['longtitude'],df_wide['latitude']))\n",
    "wide_gpd.to_file('./wide_park.geojson',driver='GeoJSON')\n",
    "# 一次避難場所\n",
    "tmp_gpd=geopandas.GeoDataFrame(df_tmp,geometry = geopandas.points_from_xy( df_tmp['longtitude'],df_tmp['latitude']))\n",
    "tmp_gpd.to_file('./tmp_park.geojson',driver='GeoJSON')"
   ]
  },
  {
   "cell_type": "markdown",
   "metadata": {},
   "source": [
    "## ちょっと可視化"
   ]
  },
  {
   "cell_type": "code",
   "execution_count": 122,
   "metadata": {},
   "outputs": [
    {
     "data": {
      "text/plain": [
       "<bound method NDFrame.keys of                              title          city                     Tel  \\\n",
       "1  ブレックスアリーナ宇都宮〔市体育館〕・駅東公園（広域避難場所）  元今泉5丁目6-18　他  028-663-1611（スポーツ振興財団）   \n",
       "3                    八幡山公園（広域避難場所）     塙田５丁目2-70    028-632-2529（市公園管理課）   \n",
       "4                 平出工業団地公園（広域避難場所）    平出工業団地30-1     028-662-5813（緑の相談所）   \n",
       "6                   宮原運動公園（広域避難場所）      陽南４丁目5-6            028-658-1052   \n",
       "7                  栃木県中央公園（広域避難場所）        睦町2-50   028-636-1491（公園管理事務所）   \n",
       "\n",
       "              coordinates   longtitude    latitude                    geometry  \n",
       "1  139.9127068:36.5581267  139.9127068  36.5581267  POINT (139.91271 36.55813)  \n",
       "3  139.8899724:36.5676559  139.8899724  36.5676559  POINT (139.88997 36.56766)  \n",
       "4  139.9389889:36.5677532  139.9389889  36.5677532  POINT (139.93899 36.56775)  \n",
       "6  139.8717313:36.5350165  139.8717313  36.5350165  POINT (139.87173 36.53502)  \n",
       "7  139.8663676:36.5553989  139.8663676  36.5553989  POINT (139.86637 36.55540)  >"
      ]
     },
     "execution_count": 122,
     "metadata": {},
     "output_type": "execute_result"
    }
   ],
   "source": [
    "df_wide.keys"
   ]
  },
  {
   "cell_type": "code",
   "execution_count": 123,
   "metadata": {},
   "outputs": [],
   "source": [
    "def visualize_locations(\n",
    "                        # df, # データフレーム\n",
    "                        # longitude_column_name, # データフレームの中で緯度を保存したカラム名\n",
    "                        # latitude_column_name, # データフレームの中で経度を保存したカラム名\n",
    "                        zoom=15, # ズームの大きさ、デフォルトで4\n",
    "                        # idx_range = 15000 # 出力する行数の上限\n",
    "                        ) -> folium.folium.Map: # Foliumのマップ型を返す\n",
    "    \"\"\"\n",
    "    EXPLAIN : 日本を拡大した地図に、pandasデータフレームのlatitudeおよびlongitudeカラムをプロットする。\n",
    "    ARGS :\n",
    "    % df, # データフレーム\n",
    "    % longitude_column_name, # データフレームの中で緯度を保存したカラム名\n",
    "    % latitude_column_name, # データフレームの中で経度を保存したカラム名\n",
    "    % zoom=4, # ズームの大きさ、デフォルトで4\n",
    "    idx_range = 15000 # 出力する行数の上限\n",
    "    \"\"\"\n",
    "\n",
    "    # 図の大きさを指定する。\n",
    "    f = folium.Figure(width=1000, height=500)\n",
    "\n",
    "    # 初期表示の中心の座標を指定して地図を作成する。\n",
    "    #北緯36度33分55.6秒 東経139度53分0.7秒\n",
    "    center_lat=36.5590232\n",
    "    center_lon=139.8966108\n",
    "\n",
    "    # foliumのMap形のコンストラクタに初期の座標とズーム情報を渡す, fは図の大きさとして指定\n",
    "    m = folium.Map([center_lat,center_lon], zoom_start=zoom).add_to(f)\n",
    "    marker_cluster = MarkerCluster().add_to(m)\n",
    "\n",
    "    # データフレームの全ての行のマーカーを作成する。\n",
    "    # 広域避難場所\n",
    "    for longtitude_num,latitude_num in zip(df_wide['longtitude'],df_wide['latitude']):\n",
    "        folium.Marker(location=[longtitude_num,latitude_num]).add_to(marker_cluster)\n",
    "    # 一次避難場所\n",
    "    for longtitude_num,latitude_num in zip(df_tmp['longtitude'],df_tmp['latitude']):\n",
    "        folium.Marker(location=[longtitude_num,latitude_num]).add_to(marker_cluster)\n",
    "    return m"
   ]
  },
  {
   "cell_type": "code",
   "execution_count": 124,
   "metadata": {},
   "outputs": [],
   "source": [
    "m=visualize_locations()"
   ]
  },
  {
   "cell_type": "code",
   "execution_count": 125,
   "metadata": {},
   "outputs": [],
   "source": [
    "m.save('hello.html')"
   ]
  }
 ],
 "metadata": {
  "kernelspec": {
   "display_name": "Python 3.9.12 ('mamorukun')",
   "language": "python",
   "name": "python3"
  },
  "language_info": {
   "codemirror_mode": {
    "name": "ipython",
    "version": 3
   },
   "file_extension": ".py",
   "mimetype": "text/x-python",
   "name": "python",
   "nbconvert_exporter": "python",
   "pygments_lexer": "ipython3",
   "version": "3.9.12"
  },
  "orig_nbformat": 4,
  "vscode": {
   "interpreter": {
    "hash": "aa61de428edab9292fe7f458d7e664ea88f2f132acb37a031112cd0beeb35311"
   }
  }
 },
 "nbformat": 4,
 "nbformat_minor": 2
}

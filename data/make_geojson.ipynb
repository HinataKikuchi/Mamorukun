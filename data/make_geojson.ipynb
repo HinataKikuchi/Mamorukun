{
 "cells": [
  {
   "cell_type": "markdown",
   "metadata": {},
   "source": [
    "# make_geojson.ipynb\n",
    "\n",
    "### 概要\n",
    "\n",
    "宇都宮市の[オープンソースライブラリ](https://data.city.utsunomiya.tochigi.jp/)から、[防災データ](https://catalog.city.utsunomiya.tochigi.jp/dataset/shiteikinkyuuhinanbashoichiran)を用いて公開するgeojsonファイルを作成します"
   ]
  },
  {
   "cell_type": "code",
   "execution_count": 1,
   "metadata": {},
   "outputs": [],
   "source": [
    "# 一時避難場所(令和3年8月現在)\n",
    "tmp_evacuation_path='https://www.city.utsunomiya.tochigi.jp/_res/projects/default_project/_page_/001/009/937/ichizihinanbasyo0608.csv'\n",
    "# 広域避難場所（令和３年８月現在）\n",
    "wide_area_evacuation_path='https://www.city.utsunomiya.tochigi.jp/_res/projects/default_project/_page_/001/009/938/kouikihinanbasyo.csv'"
   ]
  },
  {
   "cell_type": "code",
   "execution_count": 2,
   "metadata": {},
   "outputs": [],
   "source": [
    "import pandas as pd # データフレーム\n",
    "import requests # csvへのリクエスト\n",
    "import io # ファイル名の管理"
   ]
  },
  {
   "cell_type": "markdown",
   "metadata": {},
   "source": [
    "#### csvデータの読み取り"
   ]
  },
  {
   "cell_type": "code",
   "execution_count": 3,
   "metadata": {},
   "outputs": [],
   "source": [
    "# 広域避難場所\n",
    "r_wide = requests.get(wide_area_evacuation_path)\n",
    "df_wide = pd.read_csv(io.BytesIO(r_wide.content),sep=\",\",encoding='shift-jis')"
   ]
  },
  {
   "cell_type": "code",
   "execution_count": 4,
   "metadata": {},
   "outputs": [],
   "source": [
    "# 一時避難場所\n",
    "r_tmp = requests.get(tmp_evacuation_path)\n",
    "df_tmp = pd.read_csv(io.BytesIO(r_tmp.content),sep=\",\",encoding='shift-jis')"
   ]
  },
  {
   "cell_type": "code",
   "execution_count": 5,
   "metadata": {},
   "outputs": [
    {
     "data": {
      "text/html": [
       "<div>\n",
       "<style scoped>\n",
       "    .dataframe tbody tr th:only-of-type {\n",
       "        vertical-align: middle;\n",
       "    }\n",
       "\n",
       "    .dataframe tbody tr th {\n",
       "        vertical-align: top;\n",
       "    }\n",
       "\n",
       "    .dataframe thead th {\n",
       "        text-align: right;\n",
       "    }\n",
       "</style>\n",
       "<table border=\"1\" class=\"dataframe\">\n",
       "  <thead>\n",
       "    <tr style=\"text-align: right;\">\n",
       "      <th></th>\n",
       "      <th>名称</th>\n",
       "      <th>住所</th>\n",
       "      <th>電話番号</th>\n",
       "      <th>座標</th>\n",
       "    </tr>\n",
       "  </thead>\n",
       "  <tbody>\n",
       "    <tr>\n",
       "      <th>9</th>\n",
       "      <td>錦中央公園（一時避難場所）</td>\n",
       "      <td>今泉町157</td>\n",
       "      <td>028-663-1611（スポーツ振興財団）</td>\n",
       "      <td>139.9024669:36.5657864</td>\n",
       "    </tr>\n",
       "    <tr>\n",
       "      <th>11</th>\n",
       "      <td>御幸公園（一時避難場所）</td>\n",
       "      <td>平出工業団地13-1</td>\n",
       "      <td>028-663-1611（スポーツ振興財団）</td>\n",
       "      <td>139.9337652:36.5803203</td>\n",
       "    </tr>\n",
       "    <tr>\n",
       "      <th>24</th>\n",
       "      <td>文化会館及び明保野公園（一時避難場所）</td>\n",
       "      <td>明保野町7-66 外</td>\n",
       "      <td>028-636-2121（文化会館）</td>\n",
       "      <td>139.8713327:36.5436572</td>\n",
       "    </tr>\n",
       "    <tr>\n",
       "      <th>29</th>\n",
       "      <td>陽南第1公園（一時避難場所）</td>\n",
       "      <td>大塚町1</td>\n",
       "      <td>028-663-1611（スポーツ振興財団）</td>\n",
       "      <td>139.8656817:36.5321054</td>\n",
       "    </tr>\n",
       "    <tr>\n",
       "      <th>44</th>\n",
       "      <td>宇都宮城址公園（一時避難場所）</td>\n",
       "      <td>本丸町、旭1丁目地内（市役所東側）</td>\n",
       "      <td>028-632-2529（市公園管理課）</td>\n",
       "      <td>139.8886906:36.5513311</td>\n",
       "    </tr>\n",
       "  </tbody>\n",
       "</table>\n",
       "</div>"
      ],
      "text/plain": [
       "                     名称                 住所                    電話番号  \\\n",
       "9         錦中央公園（一時避難場所）             今泉町157  028-663-1611（スポーツ振興財団）   \n",
       "11         御幸公園（一時避難場所）         平出工業団地13-1  028-663-1611（スポーツ振興財団）   \n",
       "24  文化会館及び明保野公園（一時避難場所）         明保野町7-66 外      028-636-2121（文化会館）   \n",
       "29       陽南第1公園（一時避難場所）               大塚町1  028-663-1611（スポーツ振興財団）   \n",
       "44      宇都宮城址公園（一時避難場所）  本丸町、旭1丁目地内（市役所東側）    028-632-2529（市公園管理課）   \n",
       "\n",
       "                        座標  \n",
       "9   139.9024669:36.5657864  \n",
       "11  139.9337652:36.5803203  \n",
       "24  139.8713327:36.5436572  \n",
       "29  139.8656817:36.5321054  \n",
       "44  139.8886906:36.5513311  "
      ]
     },
     "execution_count": 5,
     "metadata": {},
     "output_type": "execute_result"
    }
   ],
   "source": [
    "tmp_park_df = df_tmp[df_tmp['名称'].str.contains('公園')]\n",
    "tmp_park_df"
   ]
  },
  {
   "cell_type": "code",
   "execution_count": 6,
   "metadata": {},
   "outputs": [
    {
     "data": {
      "text/html": [
       "<div>\n",
       "<style scoped>\n",
       "    .dataframe tbody tr th:only-of-type {\n",
       "        vertical-align: middle;\n",
       "    }\n",
       "\n",
       "    .dataframe tbody tr th {\n",
       "        vertical-align: top;\n",
       "    }\n",
       "\n",
       "    .dataframe thead th {\n",
       "        text-align: right;\n",
       "    }\n",
       "</style>\n",
       "<table border=\"1\" class=\"dataframe\">\n",
       "  <thead>\n",
       "    <tr style=\"text-align: right;\">\n",
       "      <th></th>\n",
       "      <th>名称</th>\n",
       "      <th>住所</th>\n",
       "      <th>電話番号</th>\n",
       "      <th>座標</th>\n",
       "    </tr>\n",
       "  </thead>\n",
       "  <tbody>\n",
       "    <tr>\n",
       "      <th>1</th>\n",
       "      <td>ブレックスアリーナ宇都宮〔市体育館〕・駅東公園（広域避難場所）</td>\n",
       "      <td>元今泉5丁目6-18　他</td>\n",
       "      <td>028-663-1611（スポーツ振興財団）</td>\n",
       "      <td>139.9127068:36.5581267</td>\n",
       "    </tr>\n",
       "    <tr>\n",
       "      <th>3</th>\n",
       "      <td>八幡山公園（広域避難場所）</td>\n",
       "      <td>塙田５丁目2-70</td>\n",
       "      <td>028-632-2529（市公園管理課）</td>\n",
       "      <td>139.8899724:36.5676559</td>\n",
       "    </tr>\n",
       "    <tr>\n",
       "      <th>4</th>\n",
       "      <td>平出工業団地公園（広域避難場所）</td>\n",
       "      <td>平出工業団地30-1</td>\n",
       "      <td>028-662-5813（緑の相談所）</td>\n",
       "      <td>139.9389889:36.5677532</td>\n",
       "    </tr>\n",
       "    <tr>\n",
       "      <th>6</th>\n",
       "      <td>宮原運動公園（広域避難場所）</td>\n",
       "      <td>陽南４丁目5-6</td>\n",
       "      <td>028-658-1052</td>\n",
       "      <td>139.8717313:36.5350165</td>\n",
       "    </tr>\n",
       "    <tr>\n",
       "      <th>7</th>\n",
       "      <td>栃木県中央公園（広域避難場所）</td>\n",
       "      <td>睦町2-50</td>\n",
       "      <td>028-636-1491（公園管理事務所）</td>\n",
       "      <td>139.8663676:36.5553989</td>\n",
       "    </tr>\n",
       "  </tbody>\n",
       "</table>\n",
       "</div>"
      ],
      "text/plain": [
       "                                名称            住所                    電話番号  \\\n",
       "1  ブレックスアリーナ宇都宮〔市体育館〕・駅東公園（広域避難場所）  元今泉5丁目6-18　他  028-663-1611（スポーツ振興財団）   \n",
       "3                    八幡山公園（広域避難場所）     塙田５丁目2-70    028-632-2529（市公園管理課）   \n",
       "4                 平出工業団地公園（広域避難場所）    平出工業団地30-1     028-662-5813（緑の相談所）   \n",
       "6                   宮原運動公園（広域避難場所）      陽南４丁目5-6            028-658-1052   \n",
       "7                  栃木県中央公園（広域避難場所）        睦町2-50   028-636-1491（公園管理事務所）   \n",
       "\n",
       "                       座標  \n",
       "1  139.9127068:36.5581267  \n",
       "3  139.8899724:36.5676559  \n",
       "4  139.9389889:36.5677532  \n",
       "6  139.8717313:36.5350165  \n",
       "7  139.8663676:36.5553989  "
      ]
     },
     "execution_count": 6,
     "metadata": {},
     "output_type": "execute_result"
    }
   ],
   "source": [
    "wide_park_df = df_wide[df_wide['名称'].str.contains('公園')]\n",
    "wide_park_df"
   ]
  },
  {
   "cell_type": "markdown",
   "metadata": {},
   "source": [
    "#### geojsonの作成"
   ]
  },
  {
   "cell_type": "code",
   "execution_count": 11,
   "metadata": {},
   "outputs": [],
   "source": [
    "from geojson import Point, Feature, FeatureCollection\n",
    "import folium\n",
    "from folium.plugins import MarkerCluster # 地図を出力するためのモジュール"
   ]
  },
  {
   "cell_type": "code",
   "execution_count": 10,
   "metadata": {},
   "outputs": [
    {
     "name": "stdout",
     "output_type": "stream",
     "text": [
      "{\"features\": {\"geometry\": {\"coordinates\": [139.665936, 35.584047], \"type\": \"Point\"}, \"properties\": {}, \"type\": \"Feature\"}, \"type\": \"FeatureCollection\"}\n"
     ]
    }
   ],
   "source": [
    "latitude = '35.584047' \n",
    "longitude = '139.665936'\n",
    "altitude = '14.000000'\n",
    "# my_point = Point((float(longitude), float(latitude), float(altitude)))\n",
    "my_point = Point((float(longitude), float(latitude)))\n",
    "my_feature = Feature(geometry=my_point)\n",
    "my_feature_collection = FeatureCollection(my_feature)\n",
    "\n",
    "print (my_feature_collection)"
   ]
  },
  {
   "cell_type": "code",
   "execution_count": 30,
   "metadata": {},
   "outputs": [],
   "source": [
    "def visualize_locations(\n",
    "                        # df, # データフレーム\n",
    "                        # longitude_column_name, # データフレームの中で緯度を保存したカラム名\n",
    "                        # latitude_column_name, # データフレームの中で経度を保存したカラム名\n",
    "                        zoom=15, # ズームの大きさ、デフォルトで4\n",
    "                        # idx_range = 15000 # 出力する行数の上限\n",
    "                        ) -> folium.folium.Map: # Foliumのマップ型を返す\n",
    "    \"\"\"\n",
    "    EXPLAIN : 日本を拡大した地図に、pandasデータフレームのlatitudeおよびlongitudeカラムをプロットする。\n",
    "    ARGS :\n",
    "    % df, # データフレーム\n",
    "    % longitude_column_name, # データフレームの中で緯度を保存したカラム名\n",
    "    % latitude_column_name, # データフレームの中で経度を保存したカラム名\n",
    "    % zoom=4, # ズームの大きさ、デフォルトで4\n",
    "    idx_range = 15000 # 出力する行数の上限\n",
    "    \"\"\"\n",
    "\n",
    "    # 図の大きさを指定する。\n",
    "    f = folium.Figure(width=1000, height=500)\n",
    "\n",
    "    # 初期表示の中心の座標を指定して地図を作成する。\n",
    "    #北緯36度33分55.6秒 東経139度53分0.7秒\n",
    "    center_lat=36.5590232\n",
    "    center_lon=139.8966108\n",
    "    # foliumのMap形のコンストラクタに初期の座標とズーム情報を渡す, fは図の大きさとして指定\n",
    "    m = folium.Map([center_lat,center_lon], zoom_start=zoom).add_to(f)\n",
    "#     marker_cluster = MarkerCluster().add_to(m)\n",
    "    # データフレームの全ての行のマーカーを作成する。\n",
    "    # 総データ数の10分の1だけのデータを扱う、つまり1万3千程度、これ以上だと出力できない事態が発生する。\n",
    "    # if df.shape[0] < idx_range : # 出力上限よりデータフレームの行数が小さい場合はデータフレームの行数分だけ出力する\n",
    "    #   for idx in range(df.shape[0]):\n",
    "    #     folium.Marker(location=[df[longitude_column_name][idx], df[latitude_column_name][idx]]).add_to(marker_cluster)\n",
    "    # else:\n",
    "    #   for idx in range(idx_range): # データフレームの行数が出力上限以上の場合は出力上限分だけ出力する\n",
    "    #     folium.Marker(location=[df[longitude_column_name][idx], df[latitude_column_name][idx]]).add_to(marker_cluster)\n",
    "\n",
    "    return m"
   ]
  },
  {
   "cell_type": "code",
   "execution_count": 31,
   "metadata": {},
   "outputs": [
    {
     "data": {
      "text/html": [
       "<iframe srcdoc=\"&lt;!DOCTYPE html&gt;\n",
       "&lt;head&gt;    \n",
       "    &lt;meta http-equiv=&quot;content-type&quot; content=&quot;text/html; charset=UTF-8&quot; /&gt;\n",
       "    \n",
       "        &lt;script&gt;\n",
       "            L_NO_TOUCH = false;\n",
       "            L_DISABLE_3D = false;\n",
       "        &lt;/script&gt;\n",
       "    \n",
       "    &lt;style&gt;html, body {width: 100%;height: 100%;margin: 0;padding: 0;}&lt;/style&gt;\n",
       "    &lt;style&gt;#map {position:absolute;top:0;bottom:0;right:0;left:0;}&lt;/style&gt;\n",
       "    &lt;script src=&quot;https://cdn.jsdelivr.net/npm/leaflet@1.6.0/dist/leaflet.js&quot;&gt;&lt;/script&gt;\n",
       "    &lt;script src=&quot;https://code.jquery.com/jquery-1.12.4.min.js&quot;&gt;&lt;/script&gt;\n",
       "    &lt;script src=&quot;https://maxcdn.bootstrapcdn.com/bootstrap/3.2.0/js/bootstrap.min.js&quot;&gt;&lt;/script&gt;\n",
       "    &lt;script src=&quot;https://cdnjs.cloudflare.com/ajax/libs/Leaflet.awesome-markers/2.0.2/leaflet.awesome-markers.js&quot;&gt;&lt;/script&gt;\n",
       "    &lt;link rel=&quot;stylesheet&quot; href=&quot;https://cdn.jsdelivr.net/npm/leaflet@1.6.0/dist/leaflet.css&quot;/&gt;\n",
       "    &lt;link rel=&quot;stylesheet&quot; href=&quot;https://maxcdn.bootstrapcdn.com/bootstrap/3.2.0/css/bootstrap.min.css&quot;/&gt;\n",
       "    &lt;link rel=&quot;stylesheet&quot; href=&quot;https://maxcdn.bootstrapcdn.com/bootstrap/3.2.0/css/bootstrap-theme.min.css&quot;/&gt;\n",
       "    &lt;link rel=&quot;stylesheet&quot; href=&quot;https://maxcdn.bootstrapcdn.com/font-awesome/4.6.3/css/font-awesome.min.css&quot;/&gt;\n",
       "    &lt;link rel=&quot;stylesheet&quot; href=&quot;https://cdnjs.cloudflare.com/ajax/libs/Leaflet.awesome-markers/2.0.2/leaflet.awesome-markers.css&quot;/&gt;\n",
       "    &lt;link rel=&quot;stylesheet&quot; href=&quot;https://cdn.jsdelivr.net/gh/python-visualization/folium/folium/templates/leaflet.awesome.rotate.min.css&quot;/&gt;\n",
       "    \n",
       "            &lt;meta name=&quot;viewport&quot; content=&quot;width=device-width,\n",
       "                initial-scale=1.0, maximum-scale=1.0, user-scalable=no&quot; /&gt;\n",
       "            &lt;style&gt;\n",
       "                #map_af25a5ffdc40e9762781f96589f4b1c0 {\n",
       "                    position: relative;\n",
       "                    width: 100.0%;\n",
       "                    height: 100.0%;\n",
       "                    left: 0.0%;\n",
       "                    top: 0.0%;\n",
       "                }\n",
       "            &lt;/style&gt;\n",
       "        \n",
       "&lt;/head&gt;\n",
       "&lt;body&gt;    \n",
       "    \n",
       "            &lt;div class=&quot;folium-map&quot; id=&quot;map_af25a5ffdc40e9762781f96589f4b1c0&quot; &gt;&lt;/div&gt;\n",
       "        \n",
       "&lt;/body&gt;\n",
       "&lt;script&gt;    \n",
       "    \n",
       "            var map_af25a5ffdc40e9762781f96589f4b1c0 = L.map(\n",
       "                &quot;map_af25a5ffdc40e9762781f96589f4b1c0&quot;,\n",
       "                {\n",
       "                    center: [36.5590232, 139.8966108],\n",
       "                    crs: L.CRS.EPSG3857,\n",
       "                    zoom: 15,\n",
       "                    zoomControl: true,\n",
       "                    preferCanvas: false,\n",
       "                }\n",
       "            );\n",
       "\n",
       "            \n",
       "\n",
       "        \n",
       "    \n",
       "            var tile_layer_227f4f77a521d22987f97212c4e52fbb = L.tileLayer(\n",
       "                &quot;https://{s}.tile.openstreetmap.org/{z}/{x}/{y}.png&quot;,\n",
       "                {&quot;attribution&quot;: &quot;Data by \\u0026copy; \\u003ca href=\\&quot;http://openstreetmap.org\\&quot;\\u003eOpenStreetMap\\u003c/a\\u003e, under \\u003ca href=\\&quot;http://www.openstreetmap.org/copyright\\&quot;\\u003eODbL\\u003c/a\\u003e.&quot;, &quot;detectRetina&quot;: false, &quot;maxNativeZoom&quot;: 18, &quot;maxZoom&quot;: 18, &quot;minZoom&quot;: 0, &quot;noWrap&quot;: false, &quot;opacity&quot;: 1, &quot;subdomains&quot;: &quot;abc&quot;, &quot;tms&quot;: false}\n",
       "            ).addTo(map_af25a5ffdc40e9762781f96589f4b1c0);\n",
       "        \n",
       "&lt;/script&gt;\" width=\"1000\" height=\"500\"style=\"border:none !important;\" \"allowfullscreen\" \"webkitallowfullscreen\" \"mozallowfullscreen\"></iframe>"
      ],
      "text/plain": [
       "<folium.folium.Map at 0x7f3f5ba40160>"
      ]
     },
     "execution_count": 31,
     "metadata": {},
     "output_type": "execute_result"
    }
   ],
   "source": [
    "visualize_locations()"
   ]
  },
  {
   "cell_type": "code",
   "execution_count": null,
   "metadata": {},
   "outputs": [],
   "source": []
  }
 ],
 "metadata": {
  "interpreter": {
   "hash": "aa61de428edab9292fe7f458d7e664ea88f2f132acb37a031112cd0beeb35311"
  },
  "kernelspec": {
   "display_name": "Python 3.9.12 ('mamorukun')",
   "language": "python",
   "name": "python3"
  },
  "language_info": {
   "codemirror_mode": {
    "name": "ipython",
    "version": 3
   },
   "file_extension": ".py",
   "mimetype": "text/x-python",
   "name": "python",
   "nbconvert_exporter": "python",
   "pygments_lexer": "ipython3",
   "version": "3.9.12"
  },
  "orig_nbformat": 4
 },
 "nbformat": 4,
 "nbformat_minor": 2
}
